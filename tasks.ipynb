{
 "cells": [
  {
   "cell_type": "code",
   "execution_count": null,
   "metadata": {},
   "outputs": [],
   "source": []
  },
  {
   "cell_type": "markdown",
   "metadata": {},
   "source": [
    "### Task 1 - Binary Representations\n",
    "<hr>"
   ]
  },
  {
   "cell_type": "markdown",
   "metadata": {},
   "source": [
    "Rotating bits refers to shifting bits in a direction, but instead of dropping the shifted bits, appending them to the other end of the integer.\n",
    "For example, 01010101 rotated by 1 to the right will become 10101010.\n",
    "\n",
    "This is done in **rotl** using bitwise operations like >> and |.\n",
    "It iterates over the last n few bits in the binary representation of the number, and adds all of them to a string.\n",
    "This string is then converted back into an integer, and appended to the start of the bits.\n",
    "- This is done by shifting the bits to append by the number of bits in the original number. So for example if the bits to append are 110, and the number of bits in the original number 10, 10 zeroes are added to the end of appendBits.\n",
    "- Then, this is OR'd against the original number right-shifted by n, the last few bits removed to be added on.\n",
    "- This creates a binary number with the rotated bits at the start, followed by the original bits minus the bits rotated from the end.\n",
    "\n",
    "**rotr** is similar"
   ]
  },
  {
   "cell_type": "code",
   "execution_count": 57,
   "metadata": {},
   "outputs": [
    {
     "name": "stdout",
     "output_type": "stream",
     "text": [
      "Before Rotation: 0b00010100100101101111000101110110\n",
      "After Rotation: 0b00001110100100101101111000101110\n"
     ]
    }
   ],
   "source": [
    "def rotl(x, n): # Rotate the bits to the left by n\n",
    "    print(f\"Before Rotation: 0b{x:032b}\")\n",
    "    s = \"0b\" # Keeps track of the rotated bits to be appended to the start.\n",
    "\n",
    "\n",
    "    for i in range(n):\n",
    "        rotatedBit = (x >> i) & 1 # Bit at the rightmost position of the number currently.\n",
    "        s = s + (str)(rotatedBit) # Add that bit to the strng.\n",
    "\n",
    "    appendBits = int(s, 2)\n",
    "\n",
    "    # len(bin(x))-n+2 gives the length of the binary number without the prefix or the rotated bits.\n",
    "    result = (appendBits << (len(bin(x))-(n+2))) | (x >> n) # [1], appending bits to the start of a binary number.\n",
    "\n",
    "    return result\n",
    "\n",
    "y = rotl(345436534, 3)\n",
    "padding = f\"After Rotation: 0b{y:032b}\"\n",
    "print(padding)"
   ]
  },
  {
   "cell_type": "code",
   "execution_count": 86,
   "metadata": {},
   "outputs": [
    {
     "name": "stdout",
     "output_type": "stream",
     "text": [
      "Before Rotation: 0b101101011000011\n",
      "1\n",
      "0\n",
      "1\n",
      "1\n",
      "0\n",
      "1\n",
      "0\n",
      "0b101101011000011\n"
     ]
    }
   ],
   "source": [
    "def rotr(x, n): # Rotate the bits to the right by n\n",
    "    print(f\"Before Rotation: 0b{x:0b}\")\n",
    "\n",
    "    s = \"0b\" # Keeps track of the rotated bits to be appended to the end.\n",
    "\n",
    "    for i in range(n):\n",
    "        rotatedBit = (x >> (len(bin(x))-i)-3) & 1\n",
    "        s = s + (str)(rotatedBit)\n",
    "        print(rotatedBit)\n",
    "\n",
    "    appendBits = (int)(s,2)\n",
    "\n",
    "    result = ((x << n) | appendBits) >> n\n",
    "\n",
    "    print(bin(result))\n",
    "\n",
    "\n",
    "rotr(23235, 7)"
   ]
  },
  {
   "cell_type": "markdown",
   "metadata": {},
   "source": [
    "**xANDy** is fairly simple. Where X and Y are both 1, **xANDy** has a 1. Else, a 0.\n",
    "**zANDNOTx** is a little more complicated. First, x is flipped, meaning every 0 becomes a 1 and vice versa.\n",
    "Then, x is AND'd with z. Together, this means that each bit at **zANDNOTx** corresponds to a 0 in x and a 1 in z. (0 from x as it would be flipped into a 1 before being AND'd.)\n",
    "\n",
    "Finally, xANDy is OR'd with zANDNOTx. This means that at each bit in the result, it's a 1 if that bit at X and Y is a 1 OR if that bit is 0 in z and 1 in x (or vice versa). Otherwise, it's a zero.\n",
    "\n",
    "For example: Consider x as 1010, y as 1100, and z as 1111.\n",
    "- The result for xANDy will be 1000, as only the first bit has both x and y at 1.\n",
    "- The result for zANDNOTx will be 0101, as both the second and fourth positions have different bits in z and x.\n",
    "- ORing these two binary numbers gives us 1101, our final result for ch()."
   ]
  },
  {
   "cell_type": "code",
   "execution_count": null,
   "metadata": {},
   "outputs": [
    {
     "name": "stdout",
     "output_type": "stream",
     "text": [
      "0b1000\n",
      "0b101\n",
      "0b1101\n"
     ]
    }
   ],
   "source": [
    "def ch(x,y,z): # Choose the bits from y where x has bits set to 1, and bits in z where x has bits set to 0\n",
    "    xANDy = x & y\n",
    "    print(bin(xANDy))\n",
    "    zANDNOTx = ~x & z # ~ is the NOT operator, meaning that x is flipped.\n",
    "    print(bin(zANDNOTx))\n",
    "    return xANDy | zANDNOTx\n",
    "\n",
    "print(bin(ch(0b1010, 0b1100, 0b1111)))"
   ]
  },
  {
   "cell_type": "markdown",
   "metadata": {},
   "source": [
    "maj() is fairly simple - it is done using only AND + OR. First we get the three different ANDs, x&y, x&z, y&z. \n",
    "Let's use these for the example: x=101010, y=100011, z=110001\n",
    "This tells us what each variable has in common at each position. With x&y, we can see that both have 1s at the first position - so there are two \"votes\" for 1 already.\n",
    "This gives us the following for each:\n",
    "- x&y = 100010\n",
    "- x&z = 100000\n",
    "- y&z = 100001\n",
    "\n",
    "Now to find out what the \"winner\" of the vote in each position is, we OR all three of these against each other. This is because any position in any of the above AND results means that two numbers \"agree\" on a 1 being at that position, so we can safely say that there is a 1 at that position.\n",
    "- In this example, the result for maj(x,y,z) is 100011. At each 1 in this number, at least 2 of x,y,z \"agree\" on there being a 1 at that position."
   ]
  },
  {
   "cell_type": "code",
   "execution_count": 10,
   "metadata": {},
   "outputs": [
    {
     "name": "stdout",
     "output_type": "stream",
     "text": [
      "0b100010\n",
      "0b100000\n",
      "0b100001\n",
      "0b100011\n"
     ]
    }
   ],
   "source": [
    "def maj(x,y,z): # Takes a majority vote of the bits in x,y,z. Output should have 1 in the position where at least two of x,y,z have 1.\n",
    "\n",
    "    # Simply AND the bits in each combination of x,y,z.\n",
    "    xANDy = x & y\n",
    "    print(bin(xANDy))\n",
    "    xANDz = x & z\n",
    "    print(bin(xANDz))\n",
    "    yANDz = y & z\n",
    "    print(bin(yANDz))\n",
    "\n",
    "    return xANDy | xANDz | yANDz # OR them all together to get the final result\n",
    "\n",
    "print(bin(maj(0b101010, 0b100011, 0b110001)))"
   ]
  },
  {
   "cell_type": "markdown",
   "metadata": {},
   "source": [
    "### Task 2 - Hash Functions\n",
    "<hr>\n",
    "\n",
    "Python version of the hash(char *s) function from *The C Programming Language*. \n",
    "Takes in a string, and returns a number (the hash of that string).\n",
    "Starts out by creating a hashval starting at 0, then iterates over every character in that string.\n",
    "Sets the hashval to the ASCII value of the character, plus 31 times the current value of hashval\n",
    "Finally, returns the value of hashval mod 101. This is the hash value of the string.\n",
    "\n",
    "Using \"hello\" as an example...\n",
    "- h -> 104. As hashval starts at zero, nothing is added to it.\n",
    "- e -> 101. Hashval now equals 101 + 31 * 104. (3325)\n",
    "- l -> 108. Hashval now equals 108 + 31 * 3325. (103183)\n",
    "- l -> 108. Hashval now equals 108 + 31 * 103183. (3198781)\n",
    "- o -> 111. Hashval now equals 111 + 31 * 3198781. (99162322)\n",
    "- The final value of hashval is then mod'd against 101, resulting in 99162322 mod 101, aka 17, our final result.\n",
    "\n",
    "\n",
    "The numbers 31 and 101 were not chosen for any particularly known reason - they were just what worked best at creating the hash value. They are both relatively low prime numbers, so they're easy to remember as constants and "
   ]
  },
  {
   "cell_type": "code",
   "execution_count": 23,
   "metadata": {},
   "outputs": [
    {
     "name": "stdout",
     "output_type": "stream",
     "text": [
      "17\n"
     ]
    }
   ],
   "source": [
    "def hash(s):\n",
    "    hashval = 0\n",
    "    for i in range(len(s)):\n",
    "        hashval = ord(s[i]) + 31 * hashval # [2] - ord() gets the ASCII value of a given character.\n",
    "    return hashval%101\n",
    "\n",
    "print(hash(\"hello\"))"
   ]
  },
  {
   "cell_type": "markdown",
   "metadata": {},
   "source": [
    "### Task 3 - SHA256\n",
    "<hr>"
   ]
  },
  {
   "cell_type": "markdown",
   "metadata": {},
   "source": [
    "### Task 4 - Prime Numbers\n",
    "<hr>"
   ]
  },
  {
   "cell_type": "markdown",
   "metadata": {},
   "source": [
    "### Task 5 - Roots\n",
    "<hr>"
   ]
  },
  {
   "cell_type": "markdown",
   "metadata": {},
   "source": [
    "### Task 6 - Proof of Work\n",
    "<hr>"
   ]
  },
  {
   "cell_type": "markdown",
   "metadata": {},
   "source": [
    "### Task 7 - Turing Machines\n",
    "<hr>"
   ]
  },
  {
   "cell_type": "markdown",
   "metadata": {},
   "source": [
    "### Task 8 - Computational Complexity\n",
    "<hr>"
   ]
  },
  {
   "cell_type": "markdown",
   "metadata": {},
   "source": [
    "References\n",
    "- [1] Appending bits to the start of a binary number: https://stackoverflow.com/a/51678298\n",
    "- [2] ord() in Python: https://docs.python.org/3.4/library/functions.html?highlight=ord#ord\n",
    "\n"
   ]
  }
 ],
 "metadata": {
  "kernelspec": {
   "display_name": "base",
   "language": "python",
   "name": "python3"
  },
  "language_info": {
   "codemirror_mode": {
    "name": "ipython",
    "version": 3
   },
   "file_extension": ".py",
   "mimetype": "text/x-python",
   "name": "python",
   "nbconvert_exporter": "python",
   "pygments_lexer": "ipython3",
   "version": "3.11.7"
  }
 },
 "nbformat": 4,
 "nbformat_minor": 2
}
