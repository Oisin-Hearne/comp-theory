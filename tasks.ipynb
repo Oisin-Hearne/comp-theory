{
 "cells": [
  {
   "cell_type": "code",
   "execution_count": null,
   "metadata": {},
   "outputs": [],
   "source": []
  },
  {
   "cell_type": "markdown",
   "metadata": {},
   "source": [
    "### Task 1 - Binary Representations\n",
    "<hr>"
   ]
  },
  {
   "cell_type": "markdown",
   "metadata": {},
   "source": [
    "Rotating bits refers to shifting bits in a direction, but instead of dropping the shifted bits, appending them to the other end of the integer.\n",
    "For example, 01010101 rotated by 1 to the right will become 10101010.\n",
    "\n",
    "This is done in **rotl** using bitwise operations like >> and |.\n",
    "It iterates over the last n few bits in the binary representation of the number, and adds all of them to a string.\n",
    "This string is then converted back into an integer, and appended to the start of the bits.\n",
    "- This is done by shifting the bits to append by the number of bits in the original number. So for example if the bits to append are 110, and the number of bits in the original number 10, 10 zeroes are added to the end of appendBits.\n",
    "- Then, this is OR'd against the original number right-shifted by n, the last few bits removed to be added on.\n",
    "- This creates a binary number with the rotated bits at the start, followed by the original bits minus the bits rotated from the end.\n",
    "\n",
    "**rotr** is similar"
   ]
  },
  {
   "cell_type": "code",
   "execution_count": 57,
   "metadata": {},
   "outputs": [
    {
     "name": "stdout",
     "output_type": "stream",
     "text": [
      "Before Rotation: 0b00010100100101101111000101110110\n",
      "After Rotation: 0b00001110100100101101111000101110\n"
     ]
    }
   ],
   "source": [
    "def rotl(x, n): # Rotate the bits to the left by n\n",
    "    print(f\"Before Rotation: 0b{x:032b}\")\n",
    "    s = \"0b\" # Keeps track of the rotated bits to be appended to the start.\n",
    "\n",
    "\n",
    "    for i in range(n):\n",
    "        rotatedBit = (x >> i) & 1 # Bit at the rightmost position of the number currently.\n",
    "        s = s + (str)(rotatedBit) # Add that bit to the strng.\n",
    "\n",
    "    appendBits = int(s, 2)\n",
    "\n",
    "    # len(bin(x))-n+2 gives the length of the binary number without the prefix or the rotated bits.\n",
    "    result = (appendBits << (len(bin(x))-(n+2))) | (x >> n) # [1], appending bits to the start of a binary number.\n",
    "\n",
    "    return result\n",
    "\n",
    "y = rotl(345436534, 3)\n",
    "padding = f\"After Rotation: 0b{y:032b}\"\n",
    "print(padding)"
   ]
  },
  {
   "cell_type": "code",
   "execution_count": 86,
   "metadata": {},
   "outputs": [
    {
     "name": "stdout",
     "output_type": "stream",
     "text": [
      "Before Rotation: 0b101101011000011\n",
      "1\n",
      "0\n",
      "1\n",
      "1\n",
      "0\n",
      "1\n",
      "0\n",
      "0b101101011000011\n"
     ]
    }
   ],
   "source": [
    "def rotr(x, n): # Rotate the bits to the right by n\n",
    "    print(f\"Before Rotation: 0b{x:0b}\")\n",
    "\n",
    "    s = \"0b\" # Keeps track of the rotated bits to be appended to the end.\n",
    "\n",
    "    for i in range(n):\n",
    "        rotatedBit = (x >> (len(bin(x))-i)-3) & 1\n",
    "        s = s + (str)(rotatedBit)\n",
    "        print(rotatedBit)\n",
    "\n",
    "    appendBits = (int)(s,2)\n",
    "\n",
    "    result = ((x << n) | appendBits) >> n\n",
    "\n",
    "    print(bin(result))\n",
    "\n",
    "\n",
    "rotr(23235, 7)"
   ]
  },
  {
   "cell_type": "markdown",
   "metadata": {},
   "source": []
  },
  {
   "cell_type": "code",
   "execution_count": null,
   "metadata": {},
   "outputs": [],
   "source": [
    "def ch(x,y,z): # Choose the bits from y where x has bits set to 1, and bits in z where x has bits set to 0\n",
    "    print() # & operator should be used here."
   ]
  },
  {
   "cell_type": "code",
   "execution_count": null,
   "metadata": {},
   "outputs": [],
   "source": [
    "def maj(x,y,z) # Takes a majority vote of the bits in x,y,z. Output should have 1 in the position where at least two of x,y,z have 1.\n",
    "    print()"
   ]
  },
  {
   "cell_type": "markdown",
   "metadata": {},
   "source": [
    "References\n",
    "- [1] Appending bits to the start of a binary number: https://stackoverflow.com/a/51678298\n",
    "\n"
   ]
  }
 ],
 "metadata": {
  "kernelspec": {
   "display_name": "Python 3",
   "language": "python",
   "name": "python3"
  },
  "language_info": {
   "codemirror_mode": {
    "name": "ipython",
    "version": 3
   },
   "file_extension": ".py",
   "mimetype": "text/x-python",
   "name": "python",
   "nbconvert_exporter": "python",
   "pygments_lexer": "ipython3",
   "version": "3.11.5"
  }
 },
 "nbformat": 4,
 "nbformat_minor": 2
}
