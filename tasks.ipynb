{
 "cells": [
  {
   "cell_type": "code",
   "execution_count": null,
   "metadata": {},
   "outputs": [],
   "source": []
  },
  {
   "cell_type": "markdown",
   "metadata": {},
   "source": [
    "### Task 1 - Binary Representations\n",
    "<hr>"
   ]
  },
  {
   "cell_type": "markdown",
   "metadata": {},
   "source": [
    "Rotating bits refers to shifting bits in a direction, but instead of dropping the shifted bits, appending them to the other end of the integer.\n",
    "For example, 01010101 rotated by 1 to the right will become 10101010."
   ]
  },
  {
   "cell_type": "code",
   "execution_count": 55,
   "metadata": {},
   "outputs": [
    {
     "name": "stdout",
     "output_type": "stream",
     "text": [
      "0b10011010010\n",
      "0b10011010010000\n",
      "0b10011010010\n",
      "0\n",
      "0b10011010010\n",
      "0b1001101001\n",
      "0b10011010011\n",
      "0b100110100\n",
      "\n"
     ]
    }
   ],
   "source": [
    "def rotl(x, n): # Rotate the bits to the left by n\n",
    "    print(bin(x))\n",
    "    print(bin((x << n)|(x >> (32 - n))))\n",
    "\n",
    "    print(bin(x))\n",
    "    print((x >> 5) & 1)\n",
    "    for i in range(n):\n",
    "        print(bin(x >> i))\n",
    "        rotatedBit = (x >> i) & 1\n",
    "        if(rotatedBit == 1): \n",
    "            x = x | 0b1\n",
    "            print(bin(x))\n",
    "            \n",
    "\n",
    "    # 0xFFFFFFFF\n",
    "    print()\n",
    "\n",
    "rotl(1234, 3)"
   ]
  },
  {
   "cell_type": "code",
   "execution_count": null,
   "metadata": {},
   "outputs": [],
   "source": [
    "def rotr(x, n): # Rotate the bits to the right by n\n",
    "    print()"
   ]
  },
  {
   "cell_type": "code",
   "execution_count": null,
   "metadata": {},
   "outputs": [],
   "source": [
    "def ch(x,y,z): # Choose the bits from y where x has bits set to 1, and bits in z where x has bits set to 0\n",
    "    print() # & operator should be used here."
   ]
  },
  {
   "cell_type": "code",
   "execution_count": null,
   "metadata": {},
   "outputs": [],
   "source": [
    "def maj(x,y,z) # Takes a majority vote of the bits in x,y,z. Output should have 1 in the position where at least two of x,y,z have 1.\n",
    "    print()"
   ]
  }
 ],
 "metadata": {
  "kernelspec": {
   "display_name": "Python 3",
   "language": "python",
   "name": "python3"
  },
  "language_info": {
   "codemirror_mode": {
    "name": "ipython",
    "version": 3
   },
   "file_extension": ".py",
   "mimetype": "text/x-python",
   "name": "python",
   "nbconvert_exporter": "python",
   "pygments_lexer": "ipython3",
   "version": "3.11.5"
  }
 },
 "nbformat": 4,
 "nbformat_minor": 2
}
