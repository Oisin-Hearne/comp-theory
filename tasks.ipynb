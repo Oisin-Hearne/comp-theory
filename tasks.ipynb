{
 "cells": [
  {
   "cell_type": "code",
   "execution_count": 1,
   "metadata": {},
   "outputs": [],
   "source": [
    "import numpy as np"
   ]
  },
  {
   "cell_type": "markdown",
   "metadata": {},
   "source": [
    "### Task 1 - Binary Representations\n",
    "<hr>"
   ]
  },
  {
   "cell_type": "markdown",
   "metadata": {},
   "source": [
    "Rotating bits refers to shifting bits in a direction, but instead of dropping the shifted bits, appending them to the other end of the integer.\n",
    "For example, 01010101 rotated by 1 to the right will become 10101010.\n",
    "\n",
    "This is done in **rotl** using bitwise operations like >> and |.\n",
    "It iterates over the last n few bits in the binary representation of the number, and adds all of them to a string.\n",
    "This string is then converted back into an integer, and appended to the start of the bits.\n",
    "- This is done by shifting the bits to append by the number of bits in the original number. So for example if the bits to append are 110, and the number of bits in the original number 10, 10 zeroes are added to the end of appendBits.\n",
    "- Then, this is OR'd against the original number right-shifted by n, the last few bits removed to be added on.\n",
    "- This creates a binary number with the rotated bits at the start, followed by the original bits minus the bits rotated from the end."
   ]
  },
  {
   "cell_type": "code",
   "execution_count": 2,
   "metadata": {},
   "outputs": [
    {
     "name": "stdout",
     "output_type": "stream",
     "text": [
      "Before Rotation: 0b00000000000000000000000011011110\n",
      "After Rotation: 0b00000000000000000000000001111011\n"
     ]
    }
   ],
   "source": [
    "def rotl(x, n): # Rotate the bits to the left by n\n",
    "    print(f\"Before Rotation: 0b{x:032b}\")\n",
    "    s = \"0b\" # Keeps track of the rotated bits to be appended to the start.\n",
    "\n",
    "\n",
    "    for i in range(n):\n",
    "        rotatedBit = (x >> i) & 1 # Bit at the rightmost position of the number currently.\n",
    "        s = s + (str)(rotatedBit) # Add that bit to the strng.\n",
    "\n",
    "    appendBits = int(s, 2)\n",
    "\n",
    "    # len(bin(x))-n+2 gives the length of the binary number without the prefix or the rotated bits.\n",
    "    result = (appendBits << (len(bin(x))-(n+2))) | (x >> n) # [1], appending bits to the start of a binary number.\n",
    "\n",
    "    return result\n",
    "\n",
    "y = rotl(222, 3)\n",
    "print(f\"After Rotation: 0b{y:032b}\")"
   ]
  },
  {
   "cell_type": "markdown",
   "metadata": {},
   "source": [
    "rotr is similar, but it uses a more efficient way of doing things. This is to demonstrate the different ways bitwise operators can be used.\n",
    "\n",
    "In rotr, the rightmost bits are extracted and then appended to the front of an empty binary number the same length as the original.\n",
    "This is then OR'd against the original number which has been bitshifted by the required amount of bits.\n",
    "This generates the same aresult (though rotating to the right instead of the left)."
   ]
  },
  {
   "cell_type": "code",
   "execution_count": 3,
   "metadata": {},
   "outputs": [
    {
     "name": "stdout",
     "output_type": "stream",
     "text": [
      "Before Rotation: 0b00000000000000000000100101110111\n",
      "After Rotation: 0b00000000000000000000111100101110\n"
     ]
    }
   ],
   "source": [
    "def rotr(x, n): # Rotate the bits to the right by n\n",
    "    print(f\"Before Rotation: 0b{x:032b}\")\n",
    "    \n",
    "    right_bits = x & ((1 << n) - 1) # Get the rightmost n bits.\n",
    "    shifted = x >> n # Shift the original number to the right.\n",
    "    \n",
    "    rotated = right_bits << (len(bin(x)) - n - 2) # Place the extracted bits on the left side.\n",
    "\n",
    "    result = shifted | rotated # Combine the two to get the result.\n",
    "\n",
    "    return result\n",
    "\n",
    "\n",
    "y = rotr(2423, 3)\n",
    "print(f\"After Rotation: 0b{y:032b}\")"
   ]
  },
  {
   "cell_type": "markdown",
   "metadata": {},
   "source": [
    "**xANDy** is fairly simple. Where X and Y are both 1, **xANDy** has a 1. Else, a 0.\n",
    "**zANDNOTx** is a little more complicated. First, x is flipped, meaning every 0 becomes a 1 and vice versa.\n",
    "Then, x is AND'd with z. Together, this means that each bit at **zANDNOTx** corresponds to a 0 in x and a 1 in z. (0 from x as it would be flipped into a 1 before being AND'd.)\n",
    "\n",
    "Finally, xANDy is OR'd with zANDNOTx. This means that at each bit in the result, it's a 1 if that bit at X and Y is a 1 OR if that bit is 0 in z and 1 in x (or vice versa). Otherwise, it's a zero.\n",
    "\n",
    "For example: Consider x as 1010, y as 1100, and z as 1111.\n",
    "- The result for xANDy will be 1000, as only the first bit has both x and y at 1.\n",
    "- The result for zANDNOTx will be 0101, as both the second and fourth positions have different bits in z and x.\n",
    "- ORing these two binary numbers gives us 1101, our final result for ch()."
   ]
  },
  {
   "cell_type": "code",
   "execution_count": 4,
   "metadata": {},
   "outputs": [
    {
     "name": "stdout",
     "output_type": "stream",
     "text": [
      "0b1000\n",
      "0b101\n",
      "0b1101\n"
     ]
    }
   ],
   "source": [
    "def ch(x,y,z): # Choose the bits from y where x has bits set to 1, and bits in z where x has bits set to 0\n",
    "    xANDy = x & y\n",
    "    print(bin(xANDy))\n",
    "    zANDNOTx = ~x & z # ~ is the NOT operator, meaning that x is flipped.\n",
    "    print(bin(zANDNOTx))\n",
    "    return xANDy | zANDNOTx\n",
    "\n",
    "print(bin(ch(0b1010, 0b1100, 0b1111)))"
   ]
  },
  {
   "cell_type": "markdown",
   "metadata": {},
   "source": [
    "maj() is fairly simple - it is done using only AND + OR. First we get the three different ANDs, x&y, x&z, y&z. \n",
    "Let's use these for the example: x=101010, y=100011, z=110001\n",
    "This tells us what each variable has in common at each position. With x&y, we can see that both have 1s at the first position - so there are two \"votes\" for 1 already.\n",
    "This gives us the following for each:\n",
    "- x&y = 100010\n",
    "- x&z = 100000\n",
    "- y&z = 100001\n",
    "\n",
    "Now to find out what the \"winner\" of the vote in each position is, we OR all three of these against each other. This is because any position in any of the above AND results means that two numbers \"agree\" on a 1 being at that position, so we can safely say that there is a 1 at that position.\n",
    "- In this example, the result for maj(x,y,z) is 100011. At each 1 in this number, at least 2 of x,y,z \"agree\" on there being a 1 at that position."
   ]
  },
  {
   "cell_type": "code",
   "execution_count": 5,
   "metadata": {},
   "outputs": [
    {
     "name": "stdout",
     "output_type": "stream",
     "text": [
      "0b100010\n",
      "0b100000\n",
      "0b100001\n",
      "0b100011\n"
     ]
    }
   ],
   "source": [
    "def maj(x,y,z): # Takes a majority vote of the bits in x,y,z. Output should have 1 in the position where at least two of x,y,z have 1.\n",
    "\n",
    "    # Simply AND the bits in each combination of x,y,z.\n",
    "    xANDy = x & y\n",
    "    print(bin(xANDy))\n",
    "    xANDz = x & z\n",
    "    print(bin(xANDz))\n",
    "    yANDz = y & z\n",
    "    print(bin(yANDz))\n",
    "\n",
    "    return xANDy | xANDz | yANDz # OR them all together to get the final result\n",
    "\n",
    "print(bin(maj(0b101010, 0b100011, 0b110001)))"
   ]
  },
  {
   "cell_type": "markdown",
   "metadata": {},
   "source": [
    "### Task 2 - Hash Functions\n",
    "<hr>\n",
    "\n",
    "Python version of the hash(char *s) function from *The C Programming Language*. \n",
    "Takes in a string, and returns a number (the hash of that string).\n",
    "Starts out by creating a hashval starting at 0, then iterates over every character in that string.\n",
    "Sets the hashval to the ASCII value of the character, plus 31 times the current value of hashval\n",
    "Finally, returns the value of hashval mod 101. This is the hash value of the string.\n",
    "\n",
    "Using \"hello\" as an example...\n",
    "- h -> 104. As hashval starts at zero, nothing is added to it.\n",
    "- e -> 101. Hashval now equals 101 + 31 * 104. (3325)\n",
    "- l -> 108. Hashval now equals 108 + 31 * 3325. (103183)\n",
    "- l -> 108. Hashval now equals 108 + 31 * 103183. (3198781)\n",
    "- o -> 111. Hashval now equals 111 + 31 * 3198781. (99162322)\n",
    "- The final value of hashval is then mod'd against 101, resulting in 99162322 mod 101, aka 17, our final result.\n",
    "\n",
    "\n",
    "The numbers 31 and 101 were not chosen for any particularly known reason - they were just what worked best at creating the hash value. They are both relatively low prime numbers, so they're easy to remember as constants and "
   ]
  },
  {
   "cell_type": "code",
   "execution_count": 6,
   "metadata": {},
   "outputs": [
    {
     "name": "stdout",
     "output_type": "stream",
     "text": [
      "17\n"
     ]
    }
   ],
   "source": [
    "def hash(s):\n",
    "    hashval = 0\n",
    "    for i in range(len(s)):\n",
    "        hashval = ord(s[i]) + 31 * hashval # [2] - ord() gets the ASCII value of a given character.\n",
    "    return hashval%101\n",
    "\n",
    "print(hash(\"hello\"))"
   ]
  },
  {
   "cell_type": "markdown",
   "metadata": {},
   "source": [
    "### Task 3 - SHA256\n",
    "<hr>"
   ]
  },
  {
   "attachments": {
    "image.png": {
     "image/png": "[encoded data removed]"
    }
   },
   "cell_type": "markdown",
   "metadata": {},
   "source": [
    "![image.png](attachment:image.png)\n",
    "\n",
    "File could be bigger than 512 bits. Only print the last block & add the padding to it, going into another block if necessary.\n",
    "\n",
    "First, I will do some operations to split my file into 512 bit sized chunks, by encoding it and counting the number of bits. I encode it in utf-8 to make sure I have a consistent idea of how many bytes each character makes up, making it reliable to calculate how many bits are in a file.\n",
    "\n",
    "I also save the whole message in binary, and the amount of bits in the mesasge, for later use. The bit of code  `'{:>0512b}'.format(int.from_bytes(str)` just converts a string into it's binary representation. This includes any leading zeroes, which are necessary for getting an accurate number of bits and ensuring that every block is 512 bits long."
   ]
  },
  {
   "cell_type": "code",
   "execution_count": 7,
   "metadata": {},
   "outputs": [
    {
     "name": "stdout",
     "output_type": "stream",
     "text": [
      "b'hello world'\n",
      "Blocks: \n",
      "Bit Length:  512\n",
      "Whole Message:  00000000000000000000000000000000000000000000000000000000000000000000000000000000000000000000000000000000000000000000000000000000000000000000000000000000000000000000000000000000000000000000000000000000000000000000000000000000000000000000000000000000000000000000000000000000000000000000000000000000000000000000000000000000000000000000000000000000000000000000000000000000000000000000000000000000000000000000000000000000000000000110100001100101011011000110110001101111001000000111011101101111011100100110110001100100\n"
     ]
    }
   ],
   "source": [
    "f = open(\"sha256.txt\", \"r\", encoding='utf-8') # [3] - open the file with an encoding method.\n",
    "\n",
    "file = f.read().encode('utf-8')\n",
    "\n",
    "# Use a list comprehension to split the bytes into chunks with a size of 64 (64 bytes = 512 bits)\n",
    "whole_message_bits = '{:>0512b}'.format(int.from_bytes(file)) # Convert the bytes to an integer, then to binary.\n",
    "message_length = len(whole_message_bits)\n",
    "blocks = ['{:>0512b}'.format(int.from_bytes(file[i:i+64])) for i in range(0, len(file), 64)] # [4] - List comprehension for splitting an array into chunks\n",
    "\n",
    "print(file[-44:])\n",
    "\n",
    "print(\"Blocks: \")\n",
    "print(\"Bit Length: \",message_length)\n",
    "print(\"Whole Message: \", whole_message_bits)"
   ]
  },
  {
   "cell_type": "markdown",
   "metadata": {},
   "source": [
    "Now, I can start appending bits to the end of the last block."
   ]
  },
  {
   "cell_type": "code",
   "execution_count": 8,
   "metadata": {},
   "outputs": [
    {
     "name": "stdout",
     "output_type": "stream",
     "text": [
      "00000000000000000000000000000000000000000000000000000000000000000000000000000000000000000000000000000000000000000000000000000000000000000000000000000000000000000000000000000000000000000000000000000000000000000000000000000000000000000000000000000000000000000000000000000000000000000000000000000000000000000000000000000000000000000000000000000000000000000000000000000000000000000000000000000000000000000000000000000000000000000110100001100101011011000110110001101111001000000111011101101111011100100110110001100100\n",
      "0b1110001010110010110011001101110110101010100011011010111101110111100010100110100001000110000110000100110110010010010101110100101011011010110111101001111010101110010001100010101000010101011011010101101101000101000001001000001110111000010111010100010010010011100011111110100111010101000100\n",
      "511\n"
     ]
    }
   ],
   "source": [
    "print(blocks[-1])\n",
    "print(bin(int(blocks[-1])))\n",
    "x = message_length % 512\n",
    "message_remainder = (512-(message_length % 512))-1\n",
    "print(message_remainder)\n",
    "# TOOD Track number of leading zeroes"
   ]
  },
  {
   "cell_type": "markdown",
   "metadata": {},
   "source": [
    "### Task 4 - Prime Numbers\n",
    "<hr>"
   ]
  },
  {
   "cell_type": "markdown",
   "metadata": {},
   "source": [
    "There are several different algorithms for finding prime numbers, and several of them will be compared below.\n",
    "\n",
    "First, brute force. This is not much of an algorithm but rather just iterating over every single number and checking if it's prime or not.\n",
    "\n",
    "This is done with this piece of code:\n",
    "```python\n",
    "for j in range((int)(np.sqrt(i))):\n",
    "    if i % (j+1) == 0 and (j+1) != 1:\n",
    "        prime = False\n",
    "```\n",
    "i is the current number. Every number from 0 to the square root of i is checked against i, to see if it's a factor of that number (1 is excepted from this). If a factor is found, we know that i isn't prime. If a factor isn't found, then we know it must be prime and we can add it to a list.\n",
    "\n",
    "```python\n",
    "if prime:\n",
    "    primes.append(i)\n",
    "```\n",
    "\n",
    "In order to find a certain number of primes, ``` while len(primes) <= n+1```is used, which keeps the algorithm going until n primes are found."
   ]
  },
  {
   "cell_type": "code",
   "execution_count": 9,
   "metadata": {},
   "outputs": [
    {
     "name": "stdout",
     "output_type": "stream",
     "text": [
      "3.23 ms ± 539 µs per loop (mean ± std. dev. of 7 runs, 100 loops each)\n"
     ]
    }
   ],
   "source": [
    "def isPrimeBruteForce(n): # Brute Force\n",
    "    primes = []\n",
    "\n",
    "    i = 0\n",
    "    while len(primes) <= n+1 : # Continue this process until n prime numbers are found.\n",
    "        prime = True\n",
    "\n",
    "        for j in range((int)(np.sqrt(i))): # Check every number from 0-sqrt(i)\n",
    "            if i % (j+1) == 0 and (j+1) != 1: # If it's a factor of i, then i's not prime.\n",
    "                prime = False\n",
    "\n",
    "        if prime:\n",
    "            primes.append(i) # If i remains true by this point, the number must be prime.\n",
    "        i += 1\n",
    "\n",
    "    return primes\n",
    "\n",
    "%timeit isPrimeBruteForce(100) #1.82ms.\n"
   ]
  },
  {
   "cell_type": "markdown",
   "metadata": {},
   "source": [
    "This isn't a very efficient way of doing things, though. It takes 1.82ms to run, and if n is increased it can quickly get out of control. There are better ways of achieving this.\n",
    "\n",
    "**Sieve of Eratosthenes** [5]\n",
    "\n",
    "The Sieve of Eratosthenes is an ancient algorithm designed to find prime numbers efficiently with a complexity of o(nloglogn). Once we've got some of the smaller prime numbers, we mark off all of their multiples as we know they cannot be prime. Then once we get to a number that's not marked off, we know it must be prime. "
   ]
  },
  {
   "cell_type": "code",
   "execution_count": null,
   "metadata": {},
   "outputs": [
    {
     "name": "stdout",
     "output_type": "stream",
     "text": [
      "122 µs ± 12 µs per loop (mean ± std. dev. of 7 runs, 10,000 loops each)\n",
      "[2, 3, 5, 7, 11, 13, 17, 19, 23, 29, 31, 37, 41, 43, 47, 53, 59, 61, 67, 71, 73, 79, 83, 89, 97, 101, 103, 107, 109, 113, 127, 131, 137, 139, 149, 151, 157, 163, 167, 173, 179, 181, 191, 193, 197, 199, 211, 223, 227, 229, 233, 239, 241, 251, 257, 263, 269, 271, 277, 281, 283, 293, 307, 311, 313, 317, 331, 337, 347, 349, 353, 359, 367, 373, 379, 383, 389, 397, 401, 409, 419, 421, 431, 433, 439, 443, 449, 457, 461, 463, 467, 479, 487, 491, 499, 503, 509, 521, 523, 541]\n"
     ]
    }
   ],
   "source": [
    "# This is a translation of the Implementation section of [5] into Python.\n",
    "def sieveOfEratosthenes(n):\n",
    "    primes = []\n",
    "    is_prime = [True] * (n+1) # Create a list of true values.\n",
    "\n",
    "    for i in range(2, n+1):\n",
    "        if(is_prime[i] and i * i <= n): # If the current number is a prime number...\n",
    "            for j in range (i*i, n+1, i): # Mark all multiples of that prime number as false.\n",
    "                is_prime[j] = False\n",
    "\n",
    "        if(is_prime[i]): # Now if we come across a number and it's still True, we can be sure it's prime.\n",
    "            primes.append(i)\n",
    "\n",
    "    return primes\n",
    "\n",
    "%timeit sieveOfEratosthenes(542)\n",
    "\n",
    "primes = sieveOfEratosthenes(542)\n",
    "print(primes)"
   ]
  },
  {
   "cell_type": "markdown",
   "metadata": {},
   "source": [
    "We can know that the time complexity of this is O(nloglogn) by looking at the number of loops. It iterates n times, but will only go into the ```for j in range (i*i, n+1 i)``` loop if it's one of the first few prime numbers - this is done via the ```i*i <= n``` in the if statement, checking that the prime squared is less than n."
   ]
  },
  {
   "cell_type": "markdown",
   "metadata": {},
   "source": [
    "**Sieve of Atkin** [9]\n",
    "The Sieve of Atkin is a more modern approach with a complexity of O(n/loglogn). This is better than the complexity of the Sieve of Eratosthenes, but comes with a higher overhead meaning that it may end up having a slower runtime at lower inputs. This higher overhead originates from all of the complex operations being done, with a large amount of division and multiplication being done in every conditional."
   ]
  },
  {
   "cell_type": "code",
   "execution_count": null,
   "metadata": {},
   "outputs": [
    {
     "name": "stdout",
     "output_type": "stream",
     "text": [
      "813 µs ± 63.1 µs per loop (mean ± std. dev. of 7 runs, 1,000 loops each)\n",
      "[2, 3, 5, 7, 11, 13, 17, 19, 23, 29, 31, 37, 41, 43, 47, 53, 59, 61, 67, 71, 73, 79, 83, 89, 97, 101, 103, 107, 109, 113, 127, 131, 137, 139, 149, 151, 157, 163, 167, 173, 179, 181, 191, 193, 197, 199, 211, 223, 227, 229, 233, 239, 241, 251, 257, 263, 269, 271, 277, 281, 283, 293, 307, 311, 313, 317, 331, 337, 347, 349, 353, 359, 367, 373, 379, 383, 389, 397, 401, 409, 419, 421, 431, 433, 439, 443, 449, 457, 461, 463, 467, 479, 487, 491, 499, 503, 509, 521, 523, 541]\n"
     ]
    }
   ],
   "source": [
    "def sieveOfAtkin(n): # [9]\n",
    "    primes = []\n",
    "    is_prime = [False] * (n+1) # Create a list of false values.\n",
    "\n",
    "    for x in range(1, int(np.sqrt(n)) + 1):\n",
    "        for y in range(1, int(np.sqrt(n)) + 1):\n",
    "            # First condition:\n",
    "                # If 4x^2 + y^2 is prime, then flip the value of is_prime[4x^2 + y^2]\n",
    "                # Checks if 4x^2 + y^2 is less than or equal to n and if it's remainder is 1 or 5 when divided by 12.\n",
    "            if (4 * x**2 + y**2 <= n) and ((4 * x**2 + y**2) % 12 == 1 or (4 * x**2 + y**2) % 12 == 5):\n",
    "                is_prime[4 * x**2 + y**2] = not is_prime[4 * x**2 + y**2]\n",
    "\n",
    "            # Second condition\n",
    "                # If 3x^2 + y^2 is prime, then flip the value of is_prime[3x^2 + y^2]\n",
    "                # Checks if 3x^2 + y^2 is less than or equal to n and if it's remainder is 7 when divided by 12.\n",
    "            if (3 * x**2 + y**2 <= n and (3 * x**2 + y**2) % 12 == 7):\n",
    "                is_prime[3 * x**2 + y**2] = not is_prime[3 * x**2 + y**2]\n",
    "\n",
    "            # Third condition\n",
    "                # If 3x^2 - y^2 is prime, then flip the value of is_prime[3x^2 - y^2]\n",
    "                # Checks if 3x^2 - y^2 is less than or equal to n and if it's remainder is 11 when divided by 12.\n",
    "                # Also checks for negative numbers with x > y.\n",
    "            if (3 * x**2 - y**2 <= n and x > y and (3 * x**2 - y**2) % 12 == 11):\n",
    "                is_prime[3 * x**2 - y**2] = not is_prime[3 * x**2 - y**2]\n",
    "\n",
    "    # mark all multiples of square of primes as non-prime\n",
    "    for p in range(5, int(np.sqrt(n)) + 1):\n",
    "        if is_prime[p]:\n",
    "            for k in range(p*p, n+1, p*p):\n",
    "                is_prime[k] = False\n",
    "\n",
    "    # We know 2 & 3 are prime, so we just add them to the list.\n",
    "    primes.append(2)\n",
    "    primes.append(3)\n",
    "\n",
    "    # Add all the other primes to the list, starting from 5 (as we already added 2 & 3).\n",
    "    for p in range(5, n+1):\n",
    "        if is_prime[p]:\n",
    "            primes.append(p)\n",
    "\n",
    "    return primes\n",
    "\n",
    "%timeit sieveOfAtkin(542) \n",
    "primes = sieveOfAtkin(542)\n",
    "print(primes)"
   ]
  },
  {
   "cell_type": "markdown",
   "metadata": {},
   "source": [
    "As you can see, Sieve of Atkin has a higher running time at this lower level of input. With more input, though it may end up faster."
   ]
  },
  {
   "attachments": {
    "image.png": {
     "image/png": "[encoded data removed]"
    }
   },
   "cell_type": "markdown",
   "metadata": {},
   "source": [
    "### Task 5 - Roots\n",
    "\"Calculate the first 32 bits of the fractional part of the square roots of the first 100 prime numbers\"\n",
    "<hr>\n",
    "\n",
    "This is used in the Secure Hash Standard for the initial hash value of SHA256. The roots of the first 8 prime numbers were taken, then the hex value of the first 32 bits of the fractional part of that root. SHA384 uses the next 8 prime numbers, while SHA512 takes 64 bits instead of 32 from the same first 8 roots.\n",
    "\n",
    "Each of these can be calculated the same way, given a list of primes:\n",
    "* Take the square root of the current prime.\n",
    "* Isolate the fractional part of it. This is done in the below code by taking the floor of the sqroot and taking it away from the sqroot.\n",
    "```python \n",
    "floor = np.floor(sqroot)\n",
    "frac = sqroot - floor\n",
    "```\n",
    "\n",
    "* Now, move however many bits as necessary in front of the decimal place. frac*2**32 is used to move 32 bits, but this can be changed easily for 64 bits.\n",
    "* Finally, the bits can be converted back into an integer and apppended to a list.\n",
    "\n",
    "The results of the below code match the constants found in the Secure Hash Standard, section 5.3.3:\n",
    "\n",
    "![image.png](attachment:image.png)"
   ]
  },
  {
   "cell_type": "code",
   "execution_count": null,
   "metadata": {},
   "outputs": [
    {
     "name": "stdout",
     "output_type": "stream",
     "text": [
      "2\t -> Hex: 6a09e667 \t Binary: 01101010000010011110011001100111\n",
      "3\t -> Hex: bb67ae85 \t Binary: 10111011011001111010111010000101\n",
      "5\t -> Hex: 3c6ef372 \t Binary: 00111100011011101111001101110010\n",
      "7\t -> Hex: a54ff53a \t Binary: 10100101010011111111010100111010\n",
      "11\t -> Hex: 510e527f \t Binary: 01010001000011100101001001111111\n",
      "503\t -> Hex: 6d7b3939 \t Binary: 01101101011110110011100100111001\n",
      "509\t -> Hex: 8f9f8dbb \t Binary: 10001111100111111000110110111011\n",
      "521\t -> Hex: d34f03cd \t Binary: 11010011010011110000001111001101\n",
      "523\t -> Hex: de8372ef \t Binary: 11011110100000110111001011101111\n",
      "541\t -> Hex: 42687a39 \t Binary: 01000010011010000111101000111001\n"
     ]
    }
   ],
   "source": [
    "first32bits = []\n",
    "\n",
    "for prime in primes: # This is adapted from the lecture notes [6], to work with square roots instead of cube roots.\n",
    "    # Square Root\n",
    "    sqroot = np.sqrt(prime)\n",
    "    floor = np.floor(sqroot)\n",
    "    frac = sqroot - floor # The fractional part is the sqroot - the floor, giving us everything after the decimal point.\n",
    "\n",
    "    # Move 32 bits in front of the decimal point.\n",
    "    frac = frac * 2**32\n",
    "\n",
    "    bits = int(frac)\n",
    "\n",
    "    first32bits.append(bits)\n",
    "\n",
    "for prime, bits in zip(primes, first32bits):\n",
    "    # Only print first 5 & last 5, for ease of reading.\n",
    "    if prime < 13 or prime > 500:\n",
    "        print(f\"{prime}\\t -> Hex: {bits:08x} \\t Binary: {bits:032b}\")\n",
    "\n"
   ]
  },
  {
   "cell_type": "markdown",
   "metadata": {},
   "source": [
    "### Task 6 - Proof of Work\n",
    "<hr>"
   ]
  },
  {
   "cell_type": "code",
   "execution_count": null,
   "metadata": {},
   "outputs": [],
   "source": []
  },
  {
   "cell_type": "markdown",
   "metadata": {},
   "source": [
    "### Task 7 - Turing Machines\n",
    "<hr>"
   ]
  },
  {
   "cell_type": "code",
   "execution_count": null,
   "metadata": {},
   "outputs": [
    {
     "data": {
      "text/plain": [
       "'A'"
      ]
     },
     "execution_count": 43,
     "metadata": {},
     "output_type": "execute_result"
    }
   ],
   "source": [
    "# Parity Check\n",
    "# Start at position zero with an empty tape\n",
    "pos = 0\n",
    "tape = \"10110111\"\n",
    "\n",
    "state_table = {\n",
    "    (\"U\", \"0\"): (\"U\", \"0\", \"R\"),\n",
    "    (\"U\", \"1\"): (\"V\", \"1\", \"R\"),\n",
    "    (\"U\", \"_\"): (\"A\", \"_\", \"L\"),\n",
    "    (\"V\", \"0\"): (\"V\", \"0\", \"R\"),\n",
    "    (\"V\", \"1\"): (\"U\", \"1\", \"R\"),\n",
    "    (\"V\", \"_\"): (\"F\", \"_\", \"L\")\n",
    "}\n",
    "\n",
    "# Navigate to the left by one cell\n",
    "def l():\n",
    "    global pos, tape\n",
    "    pos -= 1\n",
    "    if pos < 0:\n",
    "        pos = 0\n",
    "        tape = [\"_\"] + tape\n",
    "\n",
    "# Navigate to the right by one cell\n",
    "def r():\n",
    "    global pos, tape\n",
    "    pos += 1\n",
    "    if pos >= len(tape):\n",
    "        tape = tape + [\"_\"]\n",
    "\n",
    "initial_state = \"U\"\n",
    "final_state = [\"A\", \"F\"]\n",
    "\n",
    "def run():\n",
    "    global pos, tape\n",
    "    tape = list(tape)\n",
    "    state = initial_state # Set the state to the starting one\n",
    "\n",
    "    # Continue until accepted/rejected (A or R).\n",
    "    while state not in final_state:\n",
    "        symbol = tape[pos] # Get 0/1 at current position of the tape\n",
    "\n",
    "        # Get the new state, symbol and direction from the state_table.\n",
    "        new_state, new_symbol, direction = state_table[(state, symbol)]\n",
    "        tape[pos] = new_symbol # Set the current position to the new symbol.\n",
    "\n",
    "        # Move the tape as specified.\n",
    "        if direction == \"R\":\n",
    "            r()\n",
    "        else:\n",
    "            l()\n",
    "\n",
    "        state = new_state # Take on the new state.\n",
    "\n",
    "    return state\n",
    "\n",
    "run()\n"
   ]
  },
  {
   "cell_type": "code",
   "execution_count": 10,
   "metadata": {},
   "outputs": [],
   "source": [
    "pos = 0\n",
    "test_tapes = [ \"_\", \"1_\", \"0_\", \"1011010_\", \"1001010111_\"]"
   ]
  },
  {
   "cell_type": "code",
   "execution_count": 11,
   "metadata": {},
   "outputs": [],
   "source": [
    "# Add 1\n",
    "state_table = {\n",
    "    (\"U\", \"0\"): (\"U\", \"0\", \"R\"),\n",
    "    (\"U\", \"1\"): (\"U\", \"1\", \"R\"),\n",
    "    (\"U\", \"_\"): (\"V\", \"_\", \"L\"),\n",
    "    (\"V\", \"0\"): (\"W\", \"1\", \"L\"),\n",
    "    (\"V\", \"1\"): (\"V\", \"0\", \"L\"),\n",
    "    (\"V\", \"_\"): (\"A\", \"1\", \"R\"),\n",
    "    (\"W\", \"0\"): (\"W\", \"0\", \"L\"),\n",
    "    (\"W\", \"1\"): (\"W\", \"1\", \"L\"),\n",
    "    (\"W\", \"_\"): (\"A\", \"_\", \"R\"),\n",
    "    (\"X\", \"0\"): (\"A\", \"1\", \"R\"),\n",
    "    (\"X\", \"1\"): (\"A\", \"0\", \"R\"),\n",
    "    (\"X\", \"_\"): (\"A\", \"1\", \"R\")\n",
    "}"
   ]
  },
  {
   "cell_type": "code",
   "execution_count": 12,
   "metadata": {},
   "outputs": [],
   "source": [
    "\n",
    "# Navigate to the left by one cell\n",
    "def l():\n",
    "    global pos, tape\n",
    "    pos -= 1\n",
    "    if pos < 0:\n",
    "        pos = 0\n",
    "        tape = [\"_\"] + tape\n",
    "\n",
    "# Navigate to the right by one cell\n",
    "def r():\n",
    "    global pos, tape\n",
    "    pos += 1\n",
    "    if pos >= len(tape):\n",
    "        tape = tape + [\"_\"]\n",
    "\n",
    "initial_state = \"U\"\n",
    "final_state = [\"A\"]\n",
    "\n"
   ]
  },
  {
   "cell_type": "code",
   "execution_count": 13,
   "metadata": {},
   "outputs": [
    {
     "name": "stdout",
     "output_type": "stream",
     "text": [
      "Initial Tape: ['_']\n",
      "Final Tape: ['1', '_']\n",
      "\n",
      "Initial Tape: ['1', '_']\n",
      "Final Tape: ['1', '0', '_']\n",
      "\n",
      "Initial Tape: ['0', '_']\n",
      "Final Tape: ['_', '1', '_']\n",
      "\n",
      "Initial Tape: ['1', '0', '1', '1', '0', '1', '0', '_']\n",
      "Final Tape: ['_', '1', '0', '1', '1', '0', '1', '1', '_']\n",
      "\n",
      "Initial Tape: ['1', '0', '0', '1', '0', '1', '0', '1', '1', '1', '_']\n",
      "Final Tape: ['_', '1', '0', '0', '1', '0', '1', '1', '0', '0', '0', '_']\n",
      "\n"
     ]
    }
   ],
   "source": [
    "def run():\n",
    "    global pos, tape\n",
    "    states = []\n",
    "    for tape in test_tapes:\n",
    "        tape = list(tape)\n",
    "        print(f\"Initial Tape: {tape}\")\n",
    "        state = initial_state # Set the state to the starting one\n",
    "\n",
    "        # Continue until accepted/rejected (A or R).\n",
    "        while state not in final_state:\n",
    "            symbol = tape[pos] # Get 0/1 at current position of the tape\n",
    "\n",
    "            # Get the new state, symbol and direction from the state_table.\n",
    "            new_state, new_symbol, direction = state_table[(state, symbol)]\n",
    "            tape[pos] = new_symbol # Set the current position to the new symbol.\n",
    "\n",
    "            # Move the tape as specified.\n",
    "            if direction == \"R\":\n",
    "                r()\n",
    "            else:\n",
    "                l()\n",
    "\n",
    "            state = new_state # Take on the new state.\n",
    "\n",
    "        states.append(state)\n",
    "        print(f\"Final Tape: {tape}\\n\")\n",
    "\n",
    "run()"
   ]
  },
  {
   "cell_type": "markdown",
   "metadata": {},
   "source": [
    "### Task 8 - Computational Complexity\n",
    "<hr>"
   ]
  },
  {
   "cell_type": "markdown",
   "metadata": {},
   "source": [
    "BubbleSort is a rather inefficient sorting algorithm that is moreso used as a tool for demonstration. It can be used to provide a good example of how time complexity can get out of hand when programming.\n",
    "\n",
    "Below is a simple example, the results of which will be examined to demonstrate the time complexity of BubbleSort."
   ]
  },
  {
   "cell_type": "code",
   "execution_count": null,
   "metadata": {},
   "outputs": [
    {
     "name": "stdout",
     "output_type": "stream",
     "text": [
      "Sorted Array: [1, 2, 3, 4, 5]\n",
      "Comparisons: 4\n",
      "Swaps: 0\n",
      "Length: 5\n",
      "Sorted Array: [6, 13, 32, 43, 43, 45, 54, 68, 78, 231, 567, 867]\n",
      "Comparisons: 66\n",
      "Swaps: 21\n",
      "Length: 12\n"
     ]
    }
   ],
   "source": [
    "arr1 = [1, 2, 3, 4, 5] # Already sorted, should require zero swaps.\n",
    "arr2 = [6, 45, 32, 54, 68, 78, 231, 43, 43, 567, 867, 13] # Longer random list, good example for demonstrating time complexity.\n",
    "\n",
    "def bubbleSort(arr): # Code adapted from [7] to include comparisons and swaps.\n",
    "    length = len(arr)\n",
    "    comparisons = 0\n",
    "    swaps = 0\n",
    "    \n",
    "    # Iterate over the array\n",
    "    for i in range(length-1):\n",
    "        swapped = False\n",
    "        \n",
    "        # The last i elements are already sorted, so they're skipped. The rest of the elements are compared.\n",
    "        # and swapped if necessary.\n",
    "        for j in range(length-i-1): # Runs length - i - 1 times. 1/2 length - 1.\n",
    "            comparisons += 1\n",
    "            \n",
    "            if arr[j] > arr[j+1]:\n",
    "                swaps += 1\n",
    "                arr[j], arr[j+1] = arr[j+1], arr[j]\n",
    "                swapped = True\n",
    "        if not swapped:\n",
    "            break\n",
    "    \n",
    "    return arr, comparisons, swaps\n",
    "\n",
    "arr, comparisons, swaps = bubbleSort(arr1)\n",
    "print(f\"Sorted Array: {arr}\\nComparisons: {comparisons}\\nSwaps: {swaps}\\nLength: {len(arr)}\")\n",
    "arr, comparisons, swaps = bubbleSort(arr2)\n",
    "print(f\"Sorted Array: {arr}\\nComparisons: {comparisons}\\nSwaps: {swaps}\\nLength: {len(arr)}\")"
   ]
  },
  {
   "cell_type": "markdown",
   "metadata": {},
   "source": [
    "As you can see, BubbleSort has a nested for loop. This usually means a quadratic time complexity of O(n^2), if the loops run n times. This means that the runtime of the program increases exponentially with the number of inputs. \n",
    "\n",
    "Tracking the number of comparisons, we can see the complexity of BubbleSort in action. arr2 is an array with 12 elements in it. The initial for loop is plain, (n-1), but the one after it is a little more complex. With i being subtracted, the number of iterations done is reduced each time the initial loop iterates.\n",
    "Combining these, we get (1/2)n^2 - (1/2)n. Plug the length of arr2 into this, (1/2)12^2 - (1/2)12 -> 72 - 6 -> 66, which is the number of comparisons that were made. [8]\n",
    "\n",
    "When notating time complexity though, only the most significant figures are kept. In the long run, as n grows, (1/2) and -(1/2)n become insignifcant. The number of operations required still grows exponentially, and will still eventually take a prohibitively long time to run. Therefore, the notation is simplified to O(n^2).\n"
   ]
  },
  {
   "cell_type": "markdown",
   "metadata": {},
   "source": [
    "Below is a helper function for demonstrating this quadratic growth in performance, generating and sorting random lists to create a graph of how the number of comparisons required grows as the length of the arrays do."
   ]
  },
  {
   "cell_type": "code",
   "execution_count": null,
   "metadata": {},
   "outputs": [
    {
     "data": {
      "image/png": "[encoded data removed]",
      "text/plain": [
       "<Figure size 640x480 with 1 Axes>"
      ]
     },
     "metadata": {},
     "output_type": "display_data"
    }
   ],
   "source": [
    "# Helper functions for demonstrating bubble sort performance.\n",
    "# Takes a bit to run.\n",
    "import matplotlib.pyplot as plt\n",
    "import random\n",
    "\n",
    "# Create a bunch of random lists with increasing n, and plot.\n",
    "def generateRandomList(n):\n",
    "    return [random.randint(0, 1000) for _ in range(n)]\n",
    "\n",
    "# Plot these random lists\n",
    "def plotBubbleSort(n):\n",
    "    lengths = []\n",
    "    comparisons = []\n",
    "    swaps = []\n",
    "\n",
    "    for i in range(1, n+1):\n",
    "        arr = generateRandomList(i)\n",
    "        length, comp, swap = bubbleSort(arr)\n",
    "        lengths.append(len(length))\n",
    "        comparisons.append(comp)\n",
    "        swaps.append(swap)\n",
    "\n",
    "    plt.plot(lengths, comparisons, label='Comparisons')\n",
    "    plt.xlabel('Array Length')\n",
    "    plt.ylabel('Count')\n",
    "    plt.title('Bubble Sort Performance')\n",
    "    plt.legend()\n",
    "    plt.show()\n",
    "    \n",
    "plotBubbleSort(500)"
   ]
  },
  {
   "cell_type": "markdown",
   "metadata": {},
   "source": [
    "References\n",
    "- [1] Appending bits to the start of a binary number: https://stackoverflow.com/a/51678298\n",
    "- [2] ord() in Python: https://docs.python.org/3.4/library/functions.html?highlight=ord#ord\n",
    "- [3] Open file with encoding: https://stackoverflow.com/a/49375134\n",
    "- [4] Splitting an array into even-sized chunks: https://www.geeksforgeeks.org/break-list-chunks-size-n-python/\n",
    "- [5] Sieve of Eratosthenes: https://cp-algorithms.com/algebra/sieve-of-eratosthenes.html\n",
    "- [6] Cube Roots Notes: https://github.com/ianmcloughlin/computational_theory/blob/main/materials/cube_roots.ipynb\n",
    "- [7] Bubble Sort Explanation: https://www.w3schools.com/dsa/dsa_algo_bubblesort.php\n",
    "- [8] Bubble Sort Time Complexity: https://www.w3schools.com/dsa/dsa_timecomplexity_bblsort.php\n",
    "- [9] Sieve of Atkin: https://www.geeksforgeeks.org/sieve-of-atkin/"
   ]
  },
  {
   "cell_type": "markdown",
   "metadata": {},
   "source": []
  }
 ],
 "metadata": {
  "kernelspec": {
   "display_name": "base",
   "language": "python",
   "name": "python3"
  },
  "language_info": {
   "codemirror_mode": {
    "name": "ipython",
    "version": 3
   },
   "file_extension": ".py",
   "mimetype": "text/x-python",
   "name": "python",
   "nbconvert_exporter": "python",
   "pygments_lexer": "ipython3",
   "version": "3.11.7"
  }
 },
 "nbformat": 4,
 "nbformat_minor": 2
}
